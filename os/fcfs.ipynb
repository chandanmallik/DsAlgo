{
 "cells": [
  {
   "cell_type": "code",
   "execution_count": 6,
   "metadata": {},
   "outputs": [
    {
     "name": "stdout",
     "output_type": "stream",
     "text": [
      "[[0, 3], [1, 8], [2, 6], [4, 4], [5, 3]]\n",
      "12.8\n",
      "8.0\n"
     ]
    }
   ],
   "source": [
    "\n",
    "def fcfs(arr):\n",
    "    time = 0\n",
    "    waitTime = 0\n",
    "    brust = []\n",
    "    waiting = []\n",
    "    for i in range(len(arr)):\n",
    "        time = time + arr[i][1]\n",
    "        brustTime = time - arr[i][0]\n",
    "        brust.append(brustTime)\n",
    "        waitTime = brust[i] - arr[i][1]\n",
    "        \n",
    "        waiting.append(waitTime)\n",
    "    sumB = 0\n",
    "    sumW = 0\n",
    "    for i in brust:\n",
    "        sumB = sumB + i\n",
    "    for x in waiting:\n",
    "        sumW = sumW + x\n",
    "    print(sumB/len(arr))\n",
    "    print(sumW/len(arr))\n",
    "    \n",
    "\n",
    "\n",
    "\n",
    "\n",
    "\n",
    "arrivalBrust = [[2,6],[5,3],[1,8],[0,3],[4,4]]\n",
    "arrivalBrust.sort()\n",
    "print(arrivalBrust)\n",
    "fcfs(arrivalBrust)\n",
    "\n",
    "\n",
    "\n",
    "\n"
   ]
  }
 ],
 "metadata": {
  "interpreter": {
   "hash": "1f02020333df55c2cfbaa3f2ce359e474c4b99ea81662903a867d20f03dee8b5"
  },
  "kernelspec": {
   "display_name": "Python 3.8.10 64-bit ('myenv': venv)",
   "language": "python",
   "name": "python3"
  },
  "language_info": {
   "codemirror_mode": {
    "name": "ipython",
    "version": 3
   },
   "file_extension": ".py",
   "mimetype": "text/x-python",
   "name": "python",
   "nbconvert_exporter": "python",
   "pygments_lexer": "ipython3",
   "version": "3.8.10"
  },
  "orig_nbformat": 4
 },
 "nbformat": 4,
 "nbformat_minor": 2
}
